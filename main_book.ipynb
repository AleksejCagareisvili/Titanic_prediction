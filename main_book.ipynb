{
 "cells": [
  {
   "attachments": {},
   "cell_type": "markdown",
   "metadata": {},
   "source": [
    "Import of libraries"
   ]
  },
  {
   "cell_type": "code",
   "execution_count": 1,
   "metadata": {},
   "outputs": [],
   "source": [
    "import pandas as pd\n",
    "import numpy as np\n",
    "np.random.seed(0)\n",
    "\n",
    "# Models\n",
    "from sklearn.linear_model import LogisticRegression\n",
    "from sklearn.neighbors import KNeighborsClassifier\n",
    "from sklearn.svm import SVC\n",
    "from sklearn.naive_bayes import GaussianNB\n",
    "from sklearn.tree import DecisionTreeClassifier\n",
    "from sklearn.ensemble import RandomForestClassifier\n",
    "import xgboost as xgb\n",
    "import lightgbm as lgbm\n",
    "\n",
    "from sklearn.preprocessing import StandardScaler\n",
    "from sklearn.model_selection import cross_val_score, StratifiedKFold\n",
    "\n",
    "from collections import defaultdict\n",
    "\n",
    "import seaborn as sns\n",
    "import time"
   ]
  },
  {
   "attachments": {},
   "cell_type": "markdown",
   "metadata": {},
   "source": [
    "Load of dataset. Primary analysis"
   ]
  },
  {
   "cell_type": "code",
   "execution_count": 2,
   "metadata": {},
   "outputs": [
    {
     "data": {
      "text/plain": [
       "(891, 12)"
      ]
     },
     "execution_count": 2,
     "metadata": {},
     "output_type": "execute_result"
    }
   ],
   "source": [
    "# Loading a training dataset\n",
    "df_train = pd.read_csv('datasets/train_kaggle.csv')\n",
    "df_train.shape"
   ]
  },
  {
   "cell_type": "code",
   "execution_count": 3,
   "metadata": {},
   "outputs": [
    {
     "name": "stdout",
     "output_type": "stream",
     "text": [
      "<class 'pandas.core.frame.DataFrame'>\n",
      "RangeIndex: 891 entries, 0 to 890\n",
      "Data columns (total 12 columns):\n",
      " #   Column       Non-Null Count  Dtype  \n",
      "---  ------       --------------  -----  \n",
      " 0   PassengerId  891 non-null    int64  \n",
      " 1   Survived     891 non-null    int64  \n",
      " 2   Pclass       891 non-null    int64  \n",
      " 3   Name         891 non-null    object \n",
      " 4   Sex          891 non-null    object \n",
      " 5   Age          714 non-null    float64\n",
      " 6   SibSp        891 non-null    int64  \n",
      " 7   Parch        891 non-null    int64  \n",
      " 8   Ticket       891 non-null    object \n",
      " 9   Fare         891 non-null    float64\n",
      " 10  Cabin        204 non-null    object \n",
      " 11  Embarked     889 non-null    object \n",
      "dtypes: float64(2), int64(5), object(5)\n",
      "memory usage: 83.7+ KB\n"
     ]
    }
   ],
   "source": [
    "# Features - 11, Target - Survived, Rows - 891\n",
    "# You might notice that in dataset there are missing values (Age, Cabin, Embarked)\n",
    "# We will analyze each feature:\n",
    "'''\n",
    "PassengerId - List of people in order (People_train - 891)\n",
    "Survived - binary target feature (0 - No, 1 - Yes)\n",
    "Pclass - Ticket class: 1st class (Upper), 2nd class (Middle), 3rd class (Lower)\n",
    "Name - Surname and name of the passenger\n",
    "Sex - gender (male, female)\n",
    "Age - the age of the person (years)\n",
    "SibSp - of siblings / spouses aboard the Titanic\n",
    "Parch - of parents / children aboard the Titanic\n",
    "Ticket - Ticket number\n",
    "Fare - Passenger fare\n",
    "Cabin - Cabin number\n",
    "Embarked - Port of Embarkation (C - Cherbourg, Q- Queenstown, S- Southampton)\n",
    "'''\n",
    "df_train.info()"
   ]
  },
  {
   "cell_type": "code",
   "execution_count": 4,
   "metadata": {},
   "outputs": [
    {
     "data": {
      "text/plain": [
       "0    549\n",
       "1    342\n",
       "Name: Survived, dtype: int64"
      ]
     },
     "execution_count": 4,
     "metadata": {},
     "output_type": "execute_result"
    }
   ],
   "source": [
    "# Let's look at the distribution of the target variable\n",
    "df_train['Survived'].value_counts()"
   ]
  },
  {
   "cell_type": "code",
   "execution_count": 5,
   "metadata": {},
   "outputs": [
    {
     "data": {
      "image/png": "[encoded data removed]",
      "text/plain": [
       "<Figure size 432x288 with 1 Axes>"
      ]
     },
     "metadata": {
      "needs_background": "light"
     },
     "output_type": "display_data"
    }
   ],
   "source": [
    "# The graph on the basis of Pclass shows that the ratio of the dead - surviving people is larger in 3rd class (Lower)\n",
    "sns.countplot(data=df_train, x='Pclass', hue='Survived');"
   ]
  },
  {
   "cell_type": "code",
   "execution_count": 6,
   "metadata": {},
   "outputs": [
    {
     "data": {
      "image/png": "[encoded data removed]",
      "text/plain": [
       "<Figure size 432x288 with 1 Axes>"
      ]
     },
     "metadata": {
      "needs_background": "light"
     },
     "output_type": "display_data"
    }
   ],
   "source": [
    "# Distribution of surviving people based on gender\n",
    "sns.countplot(data=df_train, x='Sex', hue='Survived');"
   ]
  },
  {
   "cell_type": "code",
   "execution_count": 7,
   "metadata": {},
   "outputs": [
    {
     "data": {
      "text/html": [
       "<div>\n",
       "<style scoped>\n",
       "    .dataframe tbody tr th:only-of-type {\n",
       "        vertical-align: middle;\n",
       "    }\n",
       "\n",
       "    .dataframe tbody tr th {\n",
       "        vertical-align: top;\n",
       "    }\n",
       "\n",
       "    .dataframe thead th {\n",
       "        text-align: right;\n",
       "    }\n",
       "</style>\n",
       "<table border=\"1\" class=\"dataframe\">\n",
       "  <thead>\n",
       "    <tr style=\"text-align: right;\">\n",
       "      <th></th>\n",
       "      <th></th>\n",
       "      <th>Survived</th>\n",
       "    </tr>\n",
       "    <tr>\n",
       "      <th>Pclass</th>\n",
       "      <th>Sex</th>\n",
       "      <th></th>\n",
       "    </tr>\n",
       "  </thead>\n",
       "  <tbody>\n",
       "    <tr>\n",
       "      <th rowspan=\"2\" valign=\"top\">1</th>\n",
       "      <th>female</th>\n",
       "      <td>0.968085</td>\n",
       "    </tr>\n",
       "    <tr>\n",
       "      <th>male</th>\n",
       "      <td>0.368852</td>\n",
       "    </tr>\n",
       "    <tr>\n",
       "      <th rowspan=\"2\" valign=\"top\">2</th>\n",
       "      <th>female</th>\n",
       "      <td>0.921053</td>\n",
       "    </tr>\n",
       "    <tr>\n",
       "      <th>male</th>\n",
       "      <td>0.157407</td>\n",
       "    </tr>\n",
       "    <tr>\n",
       "      <th rowspan=\"2\" valign=\"top\">3</th>\n",
       "      <th>female</th>\n",
       "      <td>0.500000</td>\n",
       "    </tr>\n",
       "    <tr>\n",
       "      <th>male</th>\n",
       "      <td>0.135447</td>\n",
       "    </tr>\n",
       "  </tbody>\n",
       "</table>\n",
       "</div>"
      ],
      "text/plain": [
       "               Survived\n",
       "Pclass Sex             \n",
       "1      female  0.968085\n",
       "       male    0.368852\n",
       "2      female  0.921053\n",
       "       male    0.157407\n",
       "3      female  0.500000\n",
       "       male    0.135447"
      ]
     },
     "execution_count": 7,
     "metadata": {},
     "output_type": "execute_result"
    }
   ],
   "source": [
    "# The first assumptions that passengers of the 1st class have a chance for survival and women\n",
    "df_train.pivot_table(values=[\"Survived\"], index=[\"Pclass\",\"Sex\"], aggfunc=np.mean)"
   ]
  },
  {
   "cell_type": "code",
   "execution_count": 8,
   "metadata": {},
   "outputs": [
    {
     "data": {
      "text/plain": [
       "Mr              517\n",
       "Miss            182\n",
       "Mrs             125\n",
       "Master           40\n",
       "Dr                7\n",
       "Rev               6\n",
       "Mlle              2\n",
       "Major             2\n",
       "Col               2\n",
       "the Countess      1\n",
       "Capt              1\n",
       "Ms                1\n",
       "Sir               1\n",
       "Lady              1\n",
       "Mme               1\n",
       "Don               1\n",
       "Jonkheer          1\n",
       "Name: title, dtype: int64"
      ]
     },
     "execution_count": 8,
     "metadata": {},
     "output_type": "execute_result"
    }
   ],
   "source": [
    "# We will analyze the feature - Name. It can be distinguished by groups of people according to the titles (Mr, Miss, Mrs)\n",
    "# People - representative people probably have more chances for survival\n",
    "\n",
    "# We will create a new feature based on titles from a feature of Name\n",
    "# It can be seen what is the most - Mr, Miss, Mrs. The rest are rare titles\n",
    "df_train['title'] = df_train['Name'].map(lambda x: x.split(',')[1].split('.')[0].strip())\n",
    "df_train['title'].value_counts()"
   ]
  },
  {
   "cell_type": "code",
   "execution_count": 9,
   "metadata": {},
   "outputs": [
    {
     "data": {
      "text/plain": [
       "Mr        517\n",
       "Miss      182\n",
       "Mrs       125\n",
       "Master     40\n",
       "other      14\n",
       "Dr          7\n",
       "Rev         6\n",
       "Name: title_norm, dtype: int64"
      ]
     },
     "execution_count": 9,
     "metadata": {},
     "output_type": "execute_result"
    }
   ],
   "source": [
    "# Let's leave only a few popular titles and a couple of rare.\n",
    "# The remaining titles are attributed to other titles\n",
    "top_titles = list(df_train['title'].value_counts().head(6).keys())\n",
    "\n",
    "# Created a new feature based on title (other - rare titles)\n",
    "title_norm = defaultdict(lambda: 'other', dict(zip(top_titles, top_titles)))\n",
    "df_train['title_norm'] = df_train['title'].map(title_norm)\n",
    "df_train['title_norm'].value_counts()"
   ]
  },
  {
   "cell_type": "code",
   "execution_count": 10,
   "metadata": {},
   "outputs": [
    {
     "data": {
      "text/plain": [
       "0    517\n",
       "2    182\n",
       "1    125\n",
       "3     40\n",
       "4     14\n",
       "6      7\n",
       "5      6\n",
       "Name: title_norm_cat, dtype: int64"
      ]
     },
     "execution_count": 10,
     "metadata": {},
     "output_type": "execute_result"
    }
   ],
   "source": [
    "# We change the categorical format for numerical (numerical marks for categories)\n",
    "df_train['title_norm_cat'] = df_train['title_norm'].factorize()[0]\n",
    "df_train['title_norm_cat'].value_counts()"
   ]
  },
  {
   "cell_type": "code",
   "execution_count": 12,
   "metadata": {},
   "outputs": [
    {
     "name": "stdout",
     "output_type": "stream",
     "text": [
      "Number of passengers who do not indicate age: 177\n"
     ]
    },
    {
     "data": {
      "text/html": [
       "<div>\n",
       "<style scoped>\n",
       "    .dataframe tbody tr th:only-of-type {\n",
       "        vertical-align: middle;\n",
       "    }\n",
       "\n",
       "    .dataframe tbody tr th {\n",
       "        vertical-align: top;\n",
       "    }\n",
       "\n",
       "    .dataframe thead th {\n",
       "        text-align: right;\n",
       "    }\n",
       "</style>\n",
       "<table border=\"1\" class=\"dataframe\">\n",
       "  <thead>\n",
       "    <tr style=\"text-align: right;\">\n",
       "      <th></th>\n",
       "      <th>PassengerId</th>\n",
       "      <th>Survived</th>\n",
       "      <th>Pclass</th>\n",
       "      <th>Name</th>\n",
       "      <th>Sex</th>\n",
       "      <th>Age</th>\n",
       "      <th>SibSp</th>\n",
       "      <th>Parch</th>\n",
       "      <th>Ticket</th>\n",
       "      <th>Fare</th>\n",
       "      <th>Cabin</th>\n",
       "      <th>Embarked</th>\n",
       "      <th>title</th>\n",
       "      <th>title_norm</th>\n",
       "      <th>title_norm_cat</th>\n",
       "    </tr>\n",
       "  </thead>\n",
       "  <tbody>\n",
       "    <tr>\n",
       "      <th>5</th>\n",
       "      <td>6</td>\n",
       "      <td>0</td>\n",
       "      <td>3</td>\n",
       "      <td>Moran, Mr. James</td>\n",
       "      <td>male</td>\n",
       "      <td>NaN</td>\n",
       "      <td>0</td>\n",
       "      <td>0</td>\n",
       "      <td>330877</td>\n",
       "      <td>8.4583</td>\n",
       "      <td>NaN</td>\n",
       "      <td>Q</td>\n",
       "      <td>Mr</td>\n",
       "      <td>Mr</td>\n",
       "      <td>0</td>\n",
       "    </tr>\n",
       "    <tr>\n",
       "      <th>17</th>\n",
       "      <td>18</td>\n",
       "      <td>1</td>\n",
       "      <td>2</td>\n",
       "      <td>Williams, Mr. Charles Eugene</td>\n",
       "      <td>male</td>\n",
       "      <td>NaN</td>\n",
       "      <td>0</td>\n",
       "      <td>0</td>\n",
       "      <td>244373</td>\n",
       "      <td>13.0000</td>\n",
       "      <td>NaN</td>\n",
       "      <td>S</td>\n",
       "      <td>Mr</td>\n",
       "      <td>Mr</td>\n",
       "      <td>0</td>\n",
       "    </tr>\n",
       "    <tr>\n",
       "      <th>19</th>\n",
       "      <td>20</td>\n",
       "      <td>1</td>\n",
       "      <td>3</td>\n",
       "      <td>Masselmani, Mrs. Fatima</td>\n",
       "      <td>female</td>\n",
       "      <td>NaN</td>\n",
       "      <td>0</td>\n",
       "      <td>0</td>\n",
       "      <td>2649</td>\n",
       "      <td>7.2250</td>\n",
       "      <td>NaN</td>\n",
       "      <td>C</td>\n",
       "      <td>Mrs</td>\n",
       "      <td>Mrs</td>\n",
       "      <td>1</td>\n",
       "    </tr>\n",
       "    <tr>\n",
       "      <th>26</th>\n",
       "      <td>27</td>\n",
       "      <td>0</td>\n",
       "      <td>3</td>\n",
       "      <td>Emir, Mr. Farred Chehab</td>\n",
       "      <td>male</td>\n",
       "      <td>NaN</td>\n",
       "      <td>0</td>\n",
       "      <td>0</td>\n",
       "      <td>2631</td>\n",
       "      <td>7.2250</td>\n",
       "      <td>NaN</td>\n",
       "      <td>C</td>\n",
       "      <td>Mr</td>\n",
       "      <td>Mr</td>\n",
       "      <td>0</td>\n",
       "    </tr>\n",
       "    <tr>\n",
       "      <th>28</th>\n",
       "      <td>29</td>\n",
       "      <td>1</td>\n",
       "      <td>3</td>\n",
       "      <td>O'Dwyer, Miss. Ellen \"Nellie\"</td>\n",
       "      <td>female</td>\n",
       "      <td>NaN</td>\n",
       "      <td>0</td>\n",
       "      <td>0</td>\n",
       "      <td>330959</td>\n",
       "      <td>7.8792</td>\n",
       "      <td>NaN</td>\n",
       "      <td>Q</td>\n",
       "      <td>Miss</td>\n",
       "      <td>Miss</td>\n",
       "      <td>2</td>\n",
       "    </tr>\n",
       "    <tr>\n",
       "      <th>...</th>\n",
       "      <td>...</td>\n",
       "      <td>...</td>\n",
       "      <td>...</td>\n",
       "      <td>...</td>\n",
       "      <td>...</td>\n",
       "      <td>...</td>\n",
       "      <td>...</td>\n",
       "      <td>...</td>\n",
       "      <td>...</td>\n",
       "      <td>...</td>\n",
       "      <td>...</td>\n",
       "      <td>...</td>\n",
       "      <td>...</td>\n",
       "      <td>...</td>\n",
       "      <td>...</td>\n",
       "    </tr>\n",
       "    <tr>\n",
       "      <th>859</th>\n",
       "      <td>860</td>\n",
       "      <td>0</td>\n",
       "      <td>3</td>\n",
       "      <td>Razi, Mr. Raihed</td>\n",
       "      <td>male</td>\n",
       "      <td>NaN</td>\n",
       "      <td>0</td>\n",
       "      <td>0</td>\n",
       "      <td>2629</td>\n",
       "      <td>7.2292</td>\n",
       "      <td>NaN</td>\n",
       "      <td>C</td>\n",
       "      <td>Mr</td>\n",
       "      <td>Mr</td>\n",
       "      <td>0</td>\n",
       "    </tr>\n",
       "    <tr>\n",
       "      <th>863</th>\n",
       "      <td>864</td>\n",
       "      <td>0</td>\n",
       "      <td>3</td>\n",
       "      <td>Sage, Miss. Dorothy Edith \"Dolly\"</td>\n",
       "      <td>female</td>\n",
       "      <td>NaN</td>\n",
       "      <td>8</td>\n",
       "      <td>2</td>\n",
       "      <td>CA. 2343</td>\n",
       "      <td>69.5500</td>\n",
       "      <td>NaN</td>\n",
       "      <td>S</td>\n",
       "      <td>Miss</td>\n",
       "      <td>Miss</td>\n",
       "      <td>2</td>\n",
       "    </tr>\n",
       "    <tr>\n",
       "      <th>868</th>\n",
       "      <td>869</td>\n",
       "      <td>0</td>\n",
       "      <td>3</td>\n",
       "      <td>van Melkebeke, Mr. Philemon</td>\n",
       "      <td>male</td>\n",
       "      <td>NaN</td>\n",
       "      <td>0</td>\n",
       "      <td>0</td>\n",
       "      <td>345777</td>\n",
       "      <td>9.5000</td>\n",
       "      <td>NaN</td>\n",
       "      <td>S</td>\n",
       "      <td>Mr</td>\n",
       "      <td>Mr</td>\n",
       "      <td>0</td>\n",
       "    </tr>\n",
       "    <tr>\n",
       "      <th>878</th>\n",
       "      <td>879</td>\n",
       "      <td>0</td>\n",
       "      <td>3</td>\n",
       "      <td>Laleff, Mr. Kristo</td>\n",
       "      <td>male</td>\n",
       "      <td>NaN</td>\n",
       "      <td>0</td>\n",
       "      <td>0</td>\n",
       "      <td>349217</td>\n",
       "      <td>7.8958</td>\n",
       "      <td>NaN</td>\n",
       "      <td>S</td>\n",
       "      <td>Mr</td>\n",
       "      <td>Mr</td>\n",
       "      <td>0</td>\n",
       "    </tr>\n",
       "    <tr>\n",
       "      <th>888</th>\n",
       "      <td>889</td>\n",
       "      <td>0</td>\n",
       "      <td>3</td>\n",
       "      <td>Johnston, Miss. Catherine Helen \"Carrie\"</td>\n",
       "      <td>female</td>\n",
       "      <td>NaN</td>\n",
       "      <td>1</td>\n",
       "      <td>2</td>\n",
       "      <td>W./C. 6607</td>\n",
       "      <td>23.4500</td>\n",
       "      <td>NaN</td>\n",
       "      <td>S</td>\n",
       "      <td>Miss</td>\n",
       "      <td>Miss</td>\n",
       "      <td>2</td>\n",
       "    </tr>\n",
       "  </tbody>\n",
       "</table>\n",
       "<p>177 rows × 15 columns</p>\n",
       "</div>"
      ],
      "text/plain": [
       "     PassengerId  Survived  Pclass                                      Name  \\\n",
       "5              6         0       3                          Moran, Mr. James   \n",
       "17            18         1       2              Williams, Mr. Charles Eugene   \n",
       "19            20         1       3                   Masselmani, Mrs. Fatima   \n",
       "26            27         0       3                   Emir, Mr. Farred Chehab   \n",
       "28            29         1       3             O'Dwyer, Miss. Ellen \"Nellie\"   \n",
       "..           ...       ...     ...                                       ...   \n",
       "859          860         0       3                          Razi, Mr. Raihed   \n",
       "863          864         0       3         Sage, Miss. Dorothy Edith \"Dolly\"   \n",
       "868          869         0       3               van Melkebeke, Mr. Philemon   \n",
       "878          879         0       3                        Laleff, Mr. Kristo   \n",
       "888          889         0       3  Johnston, Miss. Catherine Helen \"Carrie\"   \n",
       "\n",
       "        Sex  Age  SibSp  Parch      Ticket     Fare Cabin Embarked title  \\\n",
       "5      male  NaN      0      0      330877   8.4583   NaN        Q    Mr   \n",
       "17     male  NaN      0      0      244373  13.0000   NaN        S    Mr   \n",
       "19   female  NaN      0      0        2649   7.2250   NaN        C   Mrs   \n",
       "26     male  NaN      0      0        2631   7.2250   NaN        C    Mr   \n",
       "28   female  NaN      0      0      330959   7.8792   NaN        Q  Miss   \n",
       "..      ...  ...    ...    ...         ...      ...   ...      ...   ...   \n",
       "859    male  NaN      0      0        2629   7.2292   NaN        C    Mr   \n",
       "863  female  NaN      8      2    CA. 2343  69.5500   NaN        S  Miss   \n",
       "868    male  NaN      0      0      345777   9.5000   NaN        S    Mr   \n",
       "878    male  NaN      0      0      349217   7.8958   NaN        S    Mr   \n",
       "888  female  NaN      1      2  W./C. 6607  23.4500   NaN        S  Miss   \n",
       "\n",
       "    title_norm  title_norm_cat  \n",
       "5           Mr               0  \n",
       "17          Mr               0  \n",
       "19         Mrs               1  \n",
       "26          Mr               0  \n",
       "28        Miss               2  \n",
       "..         ...             ...  \n",
       "859         Mr               0  \n",
       "863       Miss               2  \n",
       "868         Mr               0  \n",
       "878         Mr               0  \n",
       "888       Miss               2  \n",
       "\n",
       "[177 rows x 15 columns]"
      ]
     },
     "execution_count": 12,
     "metadata": {},
     "output_type": "execute_result"
    }
   ],
   "source": [
    "# We will analyze the feature - Age. This feature has missed values\n",
    "print(f\"Number of passengers who do not indicate age: {df_train['Age'].isnull().sum()}\")\n",
    "\n",
    "# We will display information on passengers where age is not indicated. You can fill out the absent values based on the average or median ages according to the titles\n",
    "df_train.loc[df_train['Age'].isnull()]"
   ]
  },
  {
   "cell_type": "code",
   "execution_count": 13,
   "metadata": {},
   "outputs": [
    {
     "data": {
      "text/plain": [
       "{'Dr': 42.0,\n",
       " 'Master': 4.574166666666667,\n",
       " 'Miss': 21.773972602739725,\n",
       " 'Mr': 32.368090452261306,\n",
       " 'Mrs': 35.898148148148145,\n",
       " 'Rev': 43.166666666666664,\n",
       " 'other': 42.214285714285715}"
      ]
     },
     "execution_count": 13,
     "metadata": {},
     "output_type": "execute_result"
    }
   ],
   "source": [
    "# We will group age by titles and withdraw the average value of age in each group\n",
    "dict_mean_age_by_title = df_train.groupby('title_norm').agg(np.mean)['Age'].to_dict()\n",
    "dict_mean_age_by_title"
   ]
  },
  {
   "cell_type": "code",
   "execution_count": 14,
   "metadata": {},
   "outputs": [
    {
     "data": {
      "text/plain": [
       "{'Dr': 46.5,\n",
       " 'Master': 3.5,\n",
       " 'Miss': 21.0,\n",
       " 'Mr': 30.0,\n",
       " 'Mrs': 35.0,\n",
       " 'Rev': 46.5,\n",
       " 'other': 42.5}"
      ]
     },
     "execution_count": 14,
     "metadata": {},
     "output_type": "execute_result"
    }
   ],
   "source": [
    "# We group the same parameters, but take the median age, since the median is less susceptible to emissions\n",
    "dict_median_age_by_title = df_train.groupby('title_norm').agg(np.median)['Age'].to_dict()\n",
    "dict_median_age_by_title"
   ]
  },
  {
   "cell_type": "code",
   "execution_count": 15,
   "metadata": {},
   "outputs": [],
   "source": [
    "# We will create new features in which we calculated the middle and median age\n",
    "df_train['age_mean'] = df_train['title_norm'].map(dict_mean_age_by_title)\n",
    "df_train['age_median'] = df_train['title_norm'].map(dict_median_age_by_title)"
   ]
  },
  {
   "cell_type": "code",
   "execution_count": 16,
   "metadata": {},
   "outputs": [],
   "source": [
    "# Replace empty values with median values calculated earlier\n",
    "df_train['Age'] = np.where(df_train['Age'].isnull(), df_train['age_median'].values, df_train['Age'].values)"
   ]
  },
  {
   "cell_type": "code",
   "execution_count": 17,
   "metadata": {},
   "outputs": [
    {
     "name": "stdout",
     "output_type": "stream",
     "text": [
      "False    577\n",
      "True     314\n",
      "Name: is_mother, dtype: int64\n"
     ]
    }
   ],
   "source": [
    "# Let us analyze the features of Sibsp, Parch on possible relationships (children, parents, brothers, sisters)\n",
    "\n",
    "# Assessment of the size of the family\n",
    "df_train['family_size'] = df_train['SibSp'] + df_train['Parch'] + 1\n",
    "df_train['family_single'] = df_train['family_size'] == 1\n",
    "df_train['family_small'] = (df_train['family_size'] > 1) & (df_train['family_size'] < 5)\n",
    "df_train['family_big'] = df_train['family_size'] > 4\n",
    "\n",
    "# Is there already 18 years, then we think that an adult, if not, then we think that a child\n",
    "df_train['child'] = df_train['age_mean'] < 18\n",
    "df_train['adult'] = df_train['age_mean'] >= 18\n",
    "\n",
    "# We are looking for mothers (this is definitely not a man, we assume that the age is more than 18 and the title is not miss)\n",
    "def is_mother(row):\n",
    "\tif row['Sex'] == 'male': return False\n",
    "\tif row['title_norm_cat'] == 'miss': return False\n",
    "\tif row['age_mean'] < 18: return False\n",
    "\treturn True\n",
    "\n",
    "# 314 people are mothers\n",
    "df_train['is_mother'] = df_train.apply(is_mother, axis=1)\n",
    "print(df_train['is_mother'].value_counts())"
   ]
  },
  {
   "cell_type": "code",
   "execution_count": 18,
   "metadata": {},
   "outputs": [
    {
     "data": {
      "image/png": "[encoded data removed]",
      "text/plain": [
       "<Figure size 432x288 with 1 Axes>"
      ]
     },
     "metadata": {
      "needs_background": "light"
     },
     "output_type": "display_data"
    }
   ],
   "source": [
    "# Consider the feature of Embarked. It can be seen that most of the passengers sat on board in the city of Southampton. More passengers died from this city\n",
    "# Embarked (C - Cherbourg, Q- Queenstown, S- Southampton)\n",
    "sns.countplot(data=df_train, x='Embarked', hue='Survived');"
   ]
  },
  {
   "cell_type": "code",
   "execution_count": 19,
   "metadata": {},
   "outputs": [
    {
     "data": {
      "text/plain": [
       " 0    644\n",
       " 1    168\n",
       " 2     77\n",
       "-1      2\n",
       "Name: Embarked_cat, dtype: int64"
      ]
     },
     "execution_count": 19,
     "metadata": {},
     "output_type": "execute_result"
    }
   ],
   "source": [
    "# We change the categorical format for numerical (numerical marks for categories)\n",
    "df_train['Embarked_cat'] = df_train['Embarked'].factorize()[0]\n",
    "df_train['Embarked_cat'].value_counts()"
   ]
  },
  {
   "attachments": {},
   "cell_type": "markdown",
   "metadata": {},
   "source": [
    "Modeling"
   ]
  },
  {
   "cell_type": "code",
   "execution_count": 20,
   "metadata": {},
   "outputs": [],
   "source": [
    "# List of models that will be tested on the dataset\n",
    "list_models = [\n",
    "\tLogisticRegression(solver='lbfgs', penalty='l2', max_iter=500),\n",
    "\tGaussianNB(),\n",
    "\tSVC(kernel='rbf'),\n",
    "\tKNeighborsClassifier(n_neighbors=3, p=1),\n",
    "\tDecisionTreeClassifier(max_depth=5),\n",
    "\tRandomForestClassifier(max_depth=5, n_estimators=60, random_state=0),\n",
    "\tlgbm.LGBMClassifier(max_depth=5, n_estimators = 60, random_state=0, learning_rate=0.3),\n",
    "\txgb.XGBClassifier(max_depth=5, n_estimators = 60, random_state=0, learning_rate=0.3)\n",
    "]"
   ]
  },
  {
   "cell_type": "code",
   "execution_count": 21,
   "metadata": {},
   "outputs": [],
   "source": [
    "# Function for teaching model\n",
    "def train_model(df, list_models):\n",
    "\n",
    "\t# Function for features selection\n",
    "\tdef get_feats(df, black_list=set(['Survived', 'PassengerId'])):\n",
    "\t\tfeats = df.select_dtypes(include=[np.number, np.bool_]).columns\n",
    "\t\treturn [x for x in feats if x not in black_list]\n",
    "\tfeats = get_feats(df)\n",
    "\n",
    "\t# Function for X, y\n",
    "\tdef get_X_y(df, feats):\n",
    "\t\tX = df[feats].fillna(-1).values\n",
    "\t\ty = df['Survived'].values\n",
    "\n",
    "\t\treturn X, y\n",
    "\tX, y = get_X_y(df, feats)\n",
    "\n",
    "\t# Standardization X for models that work better when scaling\n",
    "\tscaler = StandardScaler()\n",
    "\tX_std = scaler.fit_transform(X)\n",
    "\n",
    "\t# Information for creating a model report\n",
    "\tcolumns_describe = ['Classifier', 'Accuracy', 'Duration_sec']\n",
    "\tdata_describe = []\n",
    "\n",
    "\t# Running the learning model\n",
    "\tfor model in list_models:\n",
    "\t\tcv = StratifiedKFold(n_splits=3, shuffle=True, random_state=0)\n",
    "\t\tmodel_name = (str(model.__repr__).split(\"of\")[-1].strip().split(\"(\")[0].split(\" \")[0].replace(\"classifier\",\"\"))\n",
    "\n",
    "\t\t# Run time to check the duration of an operation\n",
    "\t\tstart_time = time.time()\n",
    "\t\tif model_name in ['LogisticRegression', 'GaussianNB', 'SVC', 'KNeighborsClassifier']:\n",
    "\t\t\tscores = cross_val_score(model, X_std, y, scoring='accuracy', cv=cv).mean()\n",
    "\t\telse:\n",
    "\t\t\tscores = cross_val_score(model, X, y, scoring='accuracy', cv=cv).mean()\n",
    "\t\tend_time = time.time()\n",
    "\n",
    "\t\tdata_describe.append([model_name, round(scores, 4), round((end_time - start_time), 4)])\n",
    "\n",
    "\t# Creating a report on models\n",
    "\tdf_describe_score = pd.DataFrame(columns=columns_describe, data=data_describe)\n",
    "\treturn df_describe_score"
   ]
  },
  {
   "cell_type": "code",
   "execution_count": 22,
   "metadata": {},
   "outputs": [
    {
     "data": {
      "text/html": [
       "<div>\n",
       "<style scoped>\n",
       "    .dataframe tbody tr th:only-of-type {\n",
       "        vertical-align: middle;\n",
       "    }\n",
       "\n",
       "    .dataframe tbody tr th {\n",
       "        vertical-align: top;\n",
       "    }\n",
       "\n",
       "    .dataframe thead th {\n",
       "        text-align: right;\n",
       "    }\n",
       "</style>\n",
       "<table border=\"1\" class=\"dataframe\">\n",
       "  <thead>\n",
       "    <tr style=\"text-align: right;\">\n",
       "      <th></th>\n",
       "      <th>Classifier</th>\n",
       "      <th>Accuracy</th>\n",
       "      <th>Duration_sec</th>\n",
       "    </tr>\n",
       "  </thead>\n",
       "  <tbody>\n",
       "    <tr>\n",
       "      <th>2</th>\n",
       "      <td>SVC</td>\n",
       "      <td>0.8339</td>\n",
       "      <td>0.1783</td>\n",
       "    </tr>\n",
       "    <tr>\n",
       "      <th>5</th>\n",
       "      <td>RandomForestClassifier</td>\n",
       "      <td>0.8305</td>\n",
       "      <td>0.7670</td>\n",
       "    </tr>\n",
       "    <tr>\n",
       "      <th>0</th>\n",
       "      <td>LogisticRegression</td>\n",
       "      <td>0.8294</td>\n",
       "      <td>0.0892</td>\n",
       "    </tr>\n",
       "    <tr>\n",
       "      <th>6</th>\n",
       "      <td>LGBMClassifier</td>\n",
       "      <td>0.8148</td>\n",
       "      <td>0.1377</td>\n",
       "    </tr>\n",
       "    <tr>\n",
       "      <th>3</th>\n",
       "      <td>KNeighborsClassifier</td>\n",
       "      <td>0.8081</td>\n",
       "      <td>0.2818</td>\n",
       "    </tr>\n",
       "    <tr>\n",
       "      <th>7</th>\n",
       "      <td>XGBClassifier</td>\n",
       "      <td>0.8036</td>\n",
       "      <td>0.4154</td>\n",
       "    </tr>\n",
       "    <tr>\n",
       "      <th>4</th>\n",
       "      <td>DecisionTreeClassifier</td>\n",
       "      <td>0.7991</td>\n",
       "      <td>0.0174</td>\n",
       "    </tr>\n",
       "    <tr>\n",
       "      <th>1</th>\n",
       "      <td>GaussianNB</td>\n",
       "      <td>0.7823</td>\n",
       "      <td>0.0126</td>\n",
       "    </tr>\n",
       "  </tbody>\n",
       "</table>\n",
       "</div>"
      ],
      "text/plain": [
       "               Classifier  Accuracy  Duration_sec\n",
       "2                     SVC    0.8339        0.1783\n",
       "5  RandomForestClassifier    0.8305        0.7670\n",
       "0      LogisticRegression    0.8294        0.0892\n",
       "6          LGBMClassifier    0.8148        0.1377\n",
       "3    KNeighborsClassifier    0.8081        0.2818\n",
       "7           XGBClassifier    0.8036        0.4154\n",
       "4  DecisionTreeClassifier    0.7991        0.0174\n",
       "1              GaussianNB    0.7823        0.0126"
      ]
     },
     "execution_count": 22,
     "metadata": {},
     "output_type": "execute_result"
    }
   ],
   "source": [
    "# The best model in the training sample with selected hyperparameters was SVC (method of support vectors)\n",
    "df_report = train_model(df_train, list_models)\n",
    "df_report = df_report.sort_values('Accuracy', ascending=False)\n",
    "df_report"
   ]
  },
  {
   "attachments": {},
   "cell_type": "markdown",
   "metadata": {},
   "source": [
    "For test sample (results on kaggle)"
   ]
  },
  {
   "cell_type": "code",
   "execution_count": 23,
   "metadata": {},
   "outputs": [
    {
     "data": {
      "text/plain": [
       "(418, 11)"
      ]
     },
     "execution_count": 23,
     "metadata": {},
     "output_type": "execute_result"
    }
   ],
   "source": [
    "# Predict the values of the target variable for test sample\n",
    "# We load the test dataset and add the same signs as for training sampling\n",
    "df_test = pd.read_csv('datasets/test_kaggle.csv')\n",
    "df_test.shape"
   ]
  },
  {
   "cell_type": "code",
   "execution_count": 24,
   "metadata": {},
   "outputs": [],
   "source": [
    "# Convert signs for test sample\n",
    "df_test['title'] = df_test['Name'].map(lambda x: x.split(',')[1].split('.')[0].strip())\n",
    "\n",
    "top_titles = list(df_test['title'].value_counts().head(6).keys())\n",
    "title_norm = defaultdict(lambda: 'other', dict(zip(top_titles, top_titles)))\n",
    "df_test['title_norm'] = df_test['title'].map(title_norm)\n",
    "df_test['title_norm_cat'] = df_test['title_norm'].factorize()[0]\n",
    "\n",
    "dict_mean_age_by_title = df_test.groupby('title_norm').agg(np.mean)['Age'].to_dict()\n",
    "dict_median_age_by_title = df_test.groupby('title_norm').agg(np.median)['Age'].to_dict()\n",
    "\n",
    "df_test['age_mean'] = df_test['title_norm'].map(dict_mean_age_by_title)\n",
    "df_test['age_median'] = df_test['title_norm'].map(dict_median_age_by_title)\n",
    "\n",
    "\n",
    "df_test['family_size'] = df_test['SibSp'] + df_test['Parch'] + 1\n",
    "df_test['family_single'] = df_test['family_size'] == 1\n",
    "df_test['family_small'] = (df_test['family_size'] > 1) & (df_test['family_size'] < 5)\n",
    "df_test['family_big'] = df_test['family_size'] > 4\n",
    "\n",
    "df_test['child'] = df_test['age_mean'] < 18\n",
    "df_test['adult'] = df_test['age_mean'] >= 18\n",
    "\n",
    "def is_mother(row):\n",
    "\tif row['Sex'] == 'male': return False\n",
    "\tif row['title_norm_cat'] == 'miss': return False\n",
    "\tif row['age_mean'] < 18: return False\n",
    "\treturn True\n",
    "\n",
    "df_test['is_mother'] = df_test.apply(is_mother, axis=1)\n",
    "df_test['Embarked_cat'] = df_test['Embarked'].factorize()[0]"
   ]
  },
  {
   "cell_type": "code",
   "execution_count": 25,
   "metadata": {},
   "outputs": [],
   "source": [
    "# Function for features selection\n",
    "def get_feats(df, black_list=set(['Survived', 'PassengerId'])):\n",
    "\tfeats = df.select_dtypes(include=[np.number, np.bool_]).columns\n",
    "\treturn [x for x in feats if x not in black_list]\n",
    "feats = get_feats(df_train)"
   ]
  },
  {
   "cell_type": "code",
   "execution_count": 26,
   "metadata": {},
   "outputs": [],
   "source": [
    "# Get X, y\n",
    "X = df_train[feats].fillna(-1).values\n",
    "y = df_train['Survived'].values\n",
    "X_t = df_test[feats].fillna(-1).values\t\t# TEST\n",
    "\n",
    "# Standardization of features\n",
    "scaler = StandardScaler()\n",
    "X_std = scaler.fit_transform(X)\n",
    "X_t_std = scaler.transform(X_t)\t\t# TEST"
   ]
  },
  {
   "cell_type": "code",
   "execution_count": 27,
   "metadata": {},
   "outputs": [],
   "source": [
    "# Cross-vidation, as in the training functions (check all the models and work out the results on Kaggle)\n",
    "# The best model in the training sample with the selected hyperparameters was RandomForestClassifier - 0,77751\n",
    "cv = StratifiedKFold(n_splits=3, shuffle=True, random_state=0)\n",
    "\n",
    "for model in list_models:\n",
    "\tmodel_name = (str(model.__repr__).split(\"of\")[-1].strip().split(\"(\")[0].split(\" \")[0].replace(\"classifier\",\"\"))\n",
    "\n",
    "\t# Preservation of the results of predictions\n",
    "\tpredicions = []\n",
    "\tfor train_idx, test_idx in cv.split(X_std, y):\n",
    "\t\tX_train, X_test = X_std[train_idx], X_std[test_idx]\n",
    "\t\ty_train, y_test = y[train_idx], y[test_idx]\n",
    "\t\tmodel.fit(X_train, y_train)\n",
    "\t\ty_pred = model.predict(X_t_std)\n",
    "\t\tpredicions.append(y_pred)\n",
    "\t\n",
    "\tdf_test['Survived'] = np.median(predicions, axis=0)\n",
    "\tdf_test['Survived'] = df_test['Survived'].astype('int')\n",
    "\n",
    "\tdf_test[['PassengerId', 'Survived']].to_csv(f'results_test/Submit_test_{model_name}.csv', index=False)\n",
    "\n",
    "# It can be concluded that the most optimal model with selected parameters is SVC and RandomForestClassifier"
   ]
  }
 ],
 "metadata": {
  "kernelspec": {
   "display_name": "Python 3",
   "language": "python",
   "name": "python3"
  },
  "language_info": {
   "codemirror_mode": {
    "name": "ipython",
    "version": 3
   },
   "file_extension": ".py",
   "mimetype": "text/x-python",
   "name": "python",
   "nbconvert_exporter": "python",
   "pygments_lexer": "ipython3",
   "version": "3.9.0"
  },
  "orig_nbformat": 4,
  "vscode": {
   "interpreter": {
    "hash": "844a783a5f8f4b5a386ac65a83e399dd5ccd6022651d4f45eaf90b7780357e2c"
   }
  }
 },
 "nbformat": 4,
 "nbformat_minor": 2
}
